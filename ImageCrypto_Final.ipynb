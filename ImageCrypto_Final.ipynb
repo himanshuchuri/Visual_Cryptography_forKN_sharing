{
 "cells": [
  {
   "cell_type": "code",
   "execution_count": 1,
   "id": "3989c027",
   "metadata": {},
   "outputs": [],
   "source": [
    "import numpy as np\n",
    "from PIL import Image\n",
    "import random\n",
    "import cv2\n",
    "from utils import *\n",
    "from tqdm import trange, tqdm\n",
    "import PIL.ImageOps\n",
    "import base64\n",
    "from Crypto.Cipher import AES\n",
    "from Crypto.Cipher import DES\n",
    "from Crypto.Cipher import DES3\n",
    "from Crypto import Random\n",
    "import os\n",
    "import sys"
   ]
  },
  {
   "cell_type": "code",
   "execution_count": 2,
   "id": "1d78cd30",
   "metadata": {},
   "outputs": [],
   "source": [
    "mssg_image = Image.open(\"/Users/himanshuchuri/Desktop/Cryptography/Project/Churi-Doshi-Pawar-Final/IMG_5356.jpg\")\n",
    "w,h = mssg_image.size"
   ]
  },
  {
   "cell_type": "code",
   "execution_count": 3,
   "id": "2390bb54",
   "metadata": {},
   "outputs": [],
   "source": [
    "def random_arr(n,cons):\n",
    "    ran = np.array([])\n",
    "    c = 0\n",
    "    while c < cons:\n",
    "        rn = random.randint(0,n-1)\n",
    "        if rn not in ran:\n",
    "            ran = np.append(ran,rn)\n",
    "            c+=1\n",
    "    return ran\n",
    "\n",
    "def to_image(strm,r,c):\n",
    "    red,grn,blu = strm[:,0:8],strm[:,8:16],strm[:,16:24]\n",
    "    r_const = np.zeros(red.shape[0])\n",
    "    g_const = np.zeros(grn.shape[0])\n",
    "    b_const = np.zeros(blu.shape[0])\n",
    "    \n",
    "    for i in range(len(red)):\n",
    "        r_const[i] = red[i].dot(2**np.arange(red[i].size)[::-1])\n",
    "    for i in range(len(grn)):\n",
    "        g_const[i] = grn[i].dot(2**np.arange(grn[i].size)[::-1])\n",
    "    for i in range(len(blu)):\n",
    "        b_const[i] = blu[i].dot(2**np.arange(blu[i].size)[::-1])\n",
    "    \n",
    "    r_reshaped,g_reshaped,b_reshaped = r_const.reshape((r,c)), g_const.reshape((r,c)), b_const.reshape((r,c))\n",
    "    return Image.merge(\"RGB\", (Image.fromarray(np.uint8(r_reshaped)), Image.fromarray(np.uint8(g_reshaped)), Image.fromarray(np.uint8(b_reshaped))))\n",
    "\n",
    "def NSharing(img, k, n):\n",
    "    r,c = img.size\n",
    "    re, gr, bl = Image.Image.split(img)\n",
    "    unpack_r,unpack_g,unpack_b = np.unpackbits(re,axis=1).reshape(r*c,8), np.unpackbits(gr,axis=1).reshape(r*c,8), np.unpackbits(bl,axis=1).reshape(r*c,8) \n",
    "    strm_img = np.concatenate((unpack_r, unpack_g, unpack_b), axis=1)\n",
    "    bit_row_sz,bit_col_sz = strm_img.shape[0],strm_img.shape[1]\n",
    "    tmp = np.zeros((n,bit_row_sz,bit_col_sz))        \n",
    "    for rw in trange(bit_row_sz, desc=\"Making Shares\"):\n",
    "        for cl in range(bit_col_sz):\n",
    "            if strm_img[rw,cl] ==1:\n",
    "                rand = random_arr(n, n - k + 1)\n",
    "                for sh in range((n - k + 1)):\n",
    "                    tmp[int(rand[sh]),bit_row_sz-rw-1,bit_col_sz-cl-1] = 1                  \n",
    "    for x in range(n):                    \n",
    "        sh_img = to_image(tmp[x, :, :],r,c)\n",
    "        sh_img.save(\"/Users/himanshuchuri/Desktop/Cryptography/Project/Churi-Doshi-Pawar-Final/Shares/share_\"+str(x)+\".png\")\n",
    "\n",
    "def decrypt_share(shares,r,c,n,folder):        \n",
    "    temp = np.zeros((r*c, 24), dtype=np.uint8)\n",
    "    try:\n",
    "        for si in range(n):            \n",
    "            sr = shares[si]           \n",
    "            re, gr, bl = Image.Image.split(sr)\n",
    "            unpack_r,unpack_g,unpack_b = np.unpackbits(re, axis=1).reshape(r * c, 8),np.unpackbits(gr, axis=1).reshape(r * c, 8), np.unpackbits(bl, axis=1).reshape(r * c, 8)\n",
    "            reconst_img = np.concatenate((unpack_r, unpack_g, unpack_b), axis=1)          \n",
    "            temp = (temp | np.flip(reconst_img))        \n",
    "            decrypt_cover = to_image(temp,c,r)\n",
    "        decrypt_cover.save(\"/Users/himanshuchuri/Desktop/Cryptography/Project/Churi-Doshi-Pawar-Final/\"+str(folder)+\"/org_img_from_shares.png\")\n",
    "        #decrypt_cover.save(\"/Users/himanshuchuri/Desktop/Cryptography/Project/Test_Answers/org_img_from_shares.png\")\n",
    "    except:\n",
    "        print(\"No of Shares not matching!\")"
   ]
  },
  {
   "cell_type": "markdown",
   "id": "111dd161",
   "metadata": {},
   "source": [
    "# Generate Shares"
   ]
  },
  {
   "cell_type": "code",
   "execution_count": 4,
   "id": "c93f8dfd",
   "metadata": {},
   "outputs": [
    {
     "name": "stderr",
     "output_type": "stream",
     "text": [
      "Making Shares: 100%|████████████████| 2342673/2342673 [05:16<00:00, 7408.22it/s]\n"
     ]
    }
   ],
   "source": [
    "k = 5\n",
    "n = 6\n",
    "cons = n - k + 1\n",
    "NSharing(mssg_image, k, n)"
   ]
  },
  {
   "cell_type": "markdown",
   "id": "d5a097c0",
   "metadata": {},
   "source": [
    "# AES 16 byte"
   ]
  },
  {
   "cell_type": "code",
   "execution_count": 5,
   "id": "ea96f8b3",
   "metadata": {},
   "outputs": [
    {
     "name": "stderr",
     "output_type": "stream",
     "text": [
      "AES encryption start: 7it [00:01,  4.16it/s]\n"
     ]
    }
   ],
   "source": [
    "k = os.urandom(16)\n",
    "iv = os.urandom(16)\n",
    "\n",
    "path_to_dir = \"/Users/himanshuchuri/Desktop/Cryptography/Project/Churi-Doshi-Pawar-Final/Shares\"\n",
    "n =0\n",
    "\n",
    "for file in tqdm(os.scandir(path_to_dir),desc=\"AES encryption start\"):\n",
    "    if file.name != '.DS_Store':\n",
    "        with open(file.path, \"rb\") as img_file:\n",
    "            i = base64.b64encode(img_file.read())\n",
    "        cipher = AES.new(k, AES.MODE_CFB, iv)\n",
    "        ciphered_img = cipher.encrypt(i)\n",
    "        with open(\"/Users/himanshuchuri/Desktop/Cryptography/Project/Churi-Doshi-Pawar-Final/Save_AES_enc/AES_enc_\"+str(n),'wb') as f2:\n",
    "            f2.write(ciphered_img)\n",
    "            n+=1"
   ]
  },
  {
   "cell_type": "code",
   "execution_count": 6,
   "id": "479876e5",
   "metadata": {},
   "outputs": [
    {
     "name": "stderr",
     "output_type": "stream",
     "text": [
      "AES decryption start: 7it [00:01,  4.19it/s]\n"
     ]
    }
   ],
   "source": [
    "path_to_dir = \"/Users/himanshuchuri/Desktop/Cryptography/Project/Save_AES_enc\"\n",
    "\n",
    "#path_to_dir = \"/Users/himanshuchuri/Desktop/Cryptography/Project/Save_AES_enc\"\n",
    "n =0\n",
    "\n",
    "for file in tqdm(os.scandir(path_to_dir),desc=\"AES decryption start\"):\n",
    "    if file.name != '.DS_Store':\n",
    "        with open(file.path, \"rb\") as img_file:\n",
    "            i = img_file.read()\n",
    "        cipher = AES.new(k, AES.MODE_CFB, iv)\n",
    "        dec_img = cipher.decrypt(i)\n",
    "        decode_img = base64.decodebytes(dec_img)\n",
    "        with open(\"/Users/himanshuchuri/Desktop/Cryptography/Project/Churi-Doshi-Pawar-Final/Save_AES_dec/AES_dec_\"+str(n)+'.png','wb') as f2:\n",
    "            f2.write(decode_img)\n",
    "            n+=1"
   ]
  },
  {
   "cell_type": "markdown",
   "id": "2dc1919f",
   "metadata": {},
   "source": [
    "# DES"
   ]
  },
  {
   "cell_type": "code",
   "execution_count": 7,
   "id": "7570de70",
   "metadata": {},
   "outputs": [
    {
     "name": "stderr",
     "output_type": "stream",
     "text": [
      "DES encryption start: 7it [00:02,  2.74it/s]\n"
     ]
    }
   ],
   "source": [
    "k = os.urandom(8)\n",
    "iv = os.urandom(8)\n",
    "\n",
    "path_to_dir = \"/Users/himanshuchuri/Desktop/Cryptography/Project/Churi-Doshi-Pawar-Final/Shares\"\n",
    "n =0\n",
    "\n",
    "for file in tqdm(os.scandir(path_to_dir),desc=\"DES encryption start\"):\n",
    "    if file.name != '.DS_Store':\n",
    "        with open(file.path, \"rb\") as img_file:\n",
    "            i = img_file.read()\n",
    "        cipher = DES.new(k, DES.MODE_CFB, iv)\n",
    "        enc_img = cipher.encrypt(i)\n",
    "        with open(\"/Users/himanshuchuri/Desktop/Cryptography/Project/Churi-Doshi-Pawar-Final/Save_DES_enc/DES_enc_\"+str(n),'wb') as f2:\n",
    "            f2.write(enc_img)\n",
    "            n+=1"
   ]
  },
  {
   "cell_type": "code",
   "execution_count": 8,
   "id": "13747d69",
   "metadata": {},
   "outputs": [
    {
     "name": "stderr",
     "output_type": "stream",
     "text": [
      "DES decryption start: 7it [00:02,  3.22it/s]\n"
     ]
    }
   ],
   "source": [
    "path_to_dir = \"/Users/himanshuchuri/Desktop/Cryptography/Project/Churi-Doshi-Pawar-Final/Save_DES_enc\"\n",
    "\n",
    "n =0\n",
    "\n",
    "for file in tqdm(os.scandir(path_to_dir),desc=\"DES decryption start\"):\n",
    "    if file.name != '.DS_Store':\n",
    "        with open(file.path, \"rb\") as img_file:\n",
    "            i = img_file.read()\n",
    "        cipher = DES.new(k, DES.MODE_CFB, iv)\n",
    "        dec_img = cipher.decrypt(i)\n",
    "        with open(\"/Users/himanshuchuri/Desktop/Cryptography/Project/Churi-Doshi-Pawar-Final/Save_DES_dec/DES_dec_\"+str(n)+'.png','wb') as f2:\n",
    "            f2.write(dec_img)\n",
    "            n+=1"
   ]
  },
  {
   "cell_type": "markdown",
   "id": "8c3d1d01",
   "metadata": {},
   "source": [
    "# Triple DES"
   ]
  },
  {
   "cell_type": "code",
   "execution_count": 9,
   "id": "5d6e5417",
   "metadata": {},
   "outputs": [
    {
     "name": "stderr",
     "output_type": "stream",
     "text": [
      "TDES encryption start: 7it [00:00,  7.56it/s]\n"
     ]
    }
   ],
   "source": [
    "k = os.urandom(24)\n",
    "iv = os.urandom(8)\n",
    "\n",
    "path_to_dir = \"/Users/himanshuchuri/Desktop/Cryptography/Project/Shares\"\n",
    "n =0\n",
    "\n",
    "for file in tqdm(os.scandir(path_to_dir),desc=\"TDES encryption start\"):\n",
    "    if file.name != '.DS_Store':\n",
    "        with open(file.path, \"rb\") as img_file:\n",
    "            i = img_file.read()\n",
    "        cipher = DES3.new(k, DES3.MODE_OFB,iv)\n",
    "        enc_img = cipher.encrypt(i)\n",
    "        with open(\"/Users/himanshuchuri/Desktop/Cryptography/Project/Churi-Doshi-Pawar-Final/Save_TDES_enc/TDES_enc_\"+str(n),'wb') as f2:\n",
    "            f2.write(enc_img)\n",
    "            n+=1"
   ]
  },
  {
   "cell_type": "code",
   "execution_count": 10,
   "id": "0b6bb75a",
   "metadata": {},
   "outputs": [
    {
     "name": "stderr",
     "output_type": "stream",
     "text": [
      "TDES decryption start: 7it [00:00,  7.51it/s]\n"
     ]
    }
   ],
   "source": [
    "path_to_dir = \"/Users/himanshuchuri/Desktop/Cryptography/Project/Save_TDES_enc\"\n",
    "\n",
    "n=0\n",
    "\n",
    "for file in tqdm(os.scandir(path_to_dir),desc=\"TDES decryption start\"):\n",
    "    if file.name != '.DS_Store':\n",
    "        with open(file.path, \"rb\") as img_file:\n",
    "            i = img_file.read()\n",
    "        cipher = DES3.new(k, DES3.MODE_OFB,iv)\n",
    "        dec_img = cipher.decrypt(i)\n",
    "        with open(\"/Users/himanshuchuri/Desktop/Cryptography/Project/Churi-Doshi-Pawar-Final/Save_TDES_dec/TDES_dec_\"+str(n)+'.png','wb') as f2:\n",
    "            f2.write(dec_img)\n",
    "            n+=1"
   ]
  },
  {
   "cell_type": "markdown",
   "id": "af9c2de8",
   "metadata": {},
   "source": [
    "# DeSharing AES"
   ]
  },
  {
   "cell_type": "code",
   "execution_count": 11,
   "id": "97a2c90c",
   "metadata": {},
   "outputs": [],
   "source": [
    "dirx = \"/Users/himanshuchuri/Desktop/Cryptography/Project/Churi-Doshi-Pawar-Final/Save_AES_dec/\"\n",
    "#dirx = \"/Users/himanshuchuri/Desktop/Cryptography/Project/Test/\""
   ]
  },
  {
   "cell_type": "code",
   "execution_count": 12,
   "id": "a84aa82f",
   "metadata": {},
   "outputs": [],
   "source": [
    "shr,c = [],n\n",
    "for file in os.listdir(dirx):\n",
    "    if file!=\".DS_Store\" and os.path.isfile(os.path.join(dirx, file)):\n",
    "        shr.append(Image.open(os.path.join(dirx, file)))"
   ]
  },
  {
   "cell_type": "code",
   "execution_count": 13,
   "id": "9b2c0387",
   "metadata": {},
   "outputs": [],
   "source": [
    "rw,cl = np.asarray(shr[0]).shape[:2]\n",
    "decrypt_share(shr,rw,cl,c,\"Deshare_AES\")"
   ]
  },
  {
   "cell_type": "markdown",
   "id": "6c5ef6fb",
   "metadata": {},
   "source": [
    "# DeSharing DES"
   ]
  },
  {
   "cell_type": "code",
   "execution_count": 14,
   "id": "241017ea",
   "metadata": {},
   "outputs": [],
   "source": [
    "dirx = \"/Users/himanshuchuri/Desktop/Cryptography/Project/Churi-Doshi-Pawar-Final/Save_DES_dec/\""
   ]
  },
  {
   "cell_type": "code",
   "execution_count": 15,
   "id": "b2b603eb",
   "metadata": {},
   "outputs": [],
   "source": [
    "shr,c = [],n\n",
    "for file in os.listdir(dirx):\n",
    "    if file!=\".DS_Store\" and os.path.isfile(os.path.join(dirx, file)):\n",
    "        shr.append(Image.open(os.path.join(dirx, file)))"
   ]
  },
  {
   "cell_type": "code",
   "execution_count": 16,
   "id": "a49e5a68",
   "metadata": {},
   "outputs": [],
   "source": [
    "rw,cl = np.asarray(shr[0]).shape[:2]\n",
    "decrypt_share(shr,rw,cl,c,\"Deshare_DES\")"
   ]
  },
  {
   "cell_type": "markdown",
   "id": "3909d956",
   "metadata": {},
   "source": [
    "# DeSharing TDES"
   ]
  },
  {
   "cell_type": "code",
   "execution_count": 17,
   "id": "fec82efc",
   "metadata": {},
   "outputs": [],
   "source": [
    "dirx = \"/Users/himanshuchuri/Desktop/Cryptography/Project/Churi-Doshi-Pawar-Final/Save_TDES_dec/\""
   ]
  },
  {
   "cell_type": "code",
   "execution_count": 18,
   "id": "1eee8962",
   "metadata": {},
   "outputs": [],
   "source": [
    "shr,c = [],n\n",
    "for file in os.listdir(dirx):\n",
    "    if file!=\".DS_Store\" and os.path.isfile(os.path.join(dirx, file)):\n",
    "        shr.append(Image.open(os.path.join(dirx, file)))"
   ]
  },
  {
   "cell_type": "code",
   "execution_count": 19,
   "id": "1453628a",
   "metadata": {},
   "outputs": [],
   "source": [
    "rw,cl = np.asarray(shr[0]).shape[:2]\n",
    "decrypt_share(shr,rw,cl,c,\"Deshare_TDES\")"
   ]
  },
  {
   "cell_type": "code",
   "execution_count": null,
   "id": "099b7494",
   "metadata": {},
   "outputs": [],
   "source": []
  }
 ],
 "metadata": {
  "kernelspec": {
   "display_name": "Python 3 (ipykernel)",
   "language": "python",
   "name": "python3"
  },
  "language_info": {
   "codemirror_mode": {
    "name": "ipython",
    "version": 3
   },
   "file_extension": ".py",
   "mimetype": "text/x-python",
   "name": "python",
   "nbconvert_exporter": "python",
   "pygments_lexer": "ipython3",
   "version": "3.9.12"
  }
 },
 "nbformat": 4,
 "nbformat_minor": 5
}
